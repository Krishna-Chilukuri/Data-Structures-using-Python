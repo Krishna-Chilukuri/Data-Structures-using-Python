{
 "cells": [
  {
   "cell_type": "code",
   "execution_count": 1,
   "metadata": {},
   "outputs": [
    {
     "name": "stdout",
     "output_type": "stream",
     "text": [
      "10 hello 20.3 10 \n",
      "Top of Stack:  10\n",
      "(10, 'hello')\n"
     ]
    }
   ],
   "source": [
    "def push(stacku,val):\n",
    "    if(len(stacku)>=25):\n",
    "        print(\"Stack size exceeded\")\n",
    "        return\n",
    "    tup1=(val,)\n",
    "    stacku=stacku+tup1\n",
    "    return stacku\n",
    "\n",
    "def pop(stacku):\n",
    "    if(len(stacku)<1):\n",
    "        print(\"Stack is Empty!!\")\n",
    "        return ()\n",
    "    stacku=stacku[0:len(stacku)-1]\n",
    "    #stacku=stacku-stacku[1]\n",
    "    return stacku\n",
    "\n",
    "def top(stacku):\n",
    "    if(len(stacku)<1):\n",
    "        print(\"Stack is Empty\")\n",
    "        return ()\n",
    "    return stacku[0]\n",
    "\n",
    "\n",
    "stack1=()\n",
    "\n",
    "stack1=push(stack1,10)\n",
    "stack1=push(stack1,\"hello\")\n",
    "stack1=push(stack1,20.3)\n",
    "stack1=push(stack1,10)\n",
    "for i in stack1:#[] lekunda print u\n",
    "    print(i,end=\" \")\n",
    "print()\n",
    "stack1=pop(stack1)\n",
    "stack1=pop(stack1)\n",
    "print(\"Top of Stack: \",top(stack1))\n",
    "#stack1=pop(stack1)\n",
    "\n",
    "print(stack1)#list maadiri [] ocche print u"
   ]
  },
  {
   "cell_type": "code",
   "execution_count": 5,
   "metadata": {},
   "outputs": [
    {
     "name": "stdout",
     "output_type": "stream",
     "text": [
      "1 hello 20.3 10 \n",
      "Front, Rear of Queue:  (1, 10)\n",
      "(20.3, 10)\n"
     ]
    }
   ],
   "source": [
    "def enque(queueu,val):\n",
    "    if(len(queueu)>=25):\n",
    "        print(\"Queue size exceeded\")\n",
    "        return\n",
    "    tup1=(val,)\n",
    "    queueu=queueu+tup1\n",
    "    return queueu\n",
    "\n",
    "def deque(queueu):\n",
    "    if(len(queueu)<1):\n",
    "        print(\"Queue is Empty!!\")\n",
    "        return ()\n",
    "    queueu=queueu[1:]\n",
    "    #stacku=stacku-stacku[1]\n",
    "    return queueu\n",
    "\n",
    "def fANDr(queueu):\n",
    "    if(len(queueu)<1):\n",
    "        print(\"Queue is Empty\")\n",
    "        return\n",
    "    return queueu[0],queueu[-1]\n",
    "\n",
    "queue1=()\n",
    "\n",
    "queue1=enque(queue1,1)\n",
    "queue1=enque(queue1,\"hello\")\n",
    "queue1=enque(queue1,20.3)\n",
    "queue1=enque(queue1,10)\n",
    "for i in queue1:#[] lekunda print u\n",
    "    print(i,end=\" \")\n",
    "print()\n",
    "print(\"Front, Rear of Queue: \",fANDr(queue1))\n",
    "queue1=deque(queue1)\n",
    "queue1=deque(queue1)\n",
    "#stack1=pop(stack1)\n",
    "\n",
    "print(queue1)#list maadiri [] ocche print u"
   ]
  }
 ],
 "metadata": {
  "kernelspec": {
   "display_name": "base",
   "language": "python",
   "name": "python3"
  },
  "language_info": {
   "codemirror_mode": {
    "name": "ipython",
    "version": 3
   },
   "file_extension": ".py",
   "mimetype": "text/x-python",
   "name": "python",
   "nbconvert_exporter": "python",
   "pygments_lexer": "ipython3",
   "version": "3.9.13"
  },
  "orig_nbformat": 4
 },
 "nbformat": 4,
 "nbformat_minor": 2
}
