{
 "cells": [
  {
   "cell_type": "code",
   "execution_count": 2,
   "metadata": {},
   "outputs": [
    {
     "name": "stdout",
     "output_type": "stream",
     "text": [
      "Front, Rear of Queue:  (10, 10)\n",
      "Dequeue result:  10\n",
      "Front, Rear of Queue:  ('hello', 10)\n",
      "Dequeue result:  hello\n",
      "Dequeue result:  20.3\n",
      "Dequeue result:  10\n",
      "Queue is Empty!!\n",
      "Dequeue result:  None\n"
     ]
    }
   ],
   "source": [
    "class Queue:\n",
    "    def __init__(self) -> None:\n",
    "        self.__queueu = []\n",
    "    def enque(self,val):\n",
    "        if(len(self.__queueu)>=25):\n",
    "            print(\"Queue size exceeded\")\n",
    "            return\n",
    "        self.__queueu.append(val)\n",
    "        return\n",
    "\n",
    "    def deque(self):\n",
    "        if(len(self.__queueu)<1):\n",
    "            print(\"Queue is Empty!!\")\n",
    "            return\n",
    "        poppedVal = self.__queueu[0]\n",
    "        self.__queueu = self.__queueu[1:]\n",
    "        return poppedVal\n",
    "\n",
    "    def fANDr(self):#Front & Rear\n",
    "        if(len(self.__queueu)<1):\n",
    "            print(\"Queue is Empty\")\n",
    "            return\n",
    "        return self.__queueu[0],self.__queueu[-1]\n",
    "\n",
    "queue1 = Queue()\n",
    "queue1.enque(10)\n",
    "queue1.enque(\"hello\")\n",
    "queue1.enque(20.3)\n",
    "queue1.enque(10)\n",
    "print(\"Front, Rear of Queue: \",queue1.fANDr())\n",
    "print(\"Dequeue result: \",queue1.deque())\n",
    "print(\"Front, Rear of Queue: \",queue1.fANDr())\n",
    "print(\"Dequeue result: \",queue1.deque())\n",
    "print(\"Dequeue result: \",queue1.deque())\n",
    "print(\"Dequeue result: \",queue1.deque())\n",
    "print(\"Dequeue result: \",queue1.deque())"
   ]
  }
 ],
 "metadata": {
  "kernelspec": {
   "display_name": "base",
   "language": "python",
   "name": "python3"
  },
  "language_info": {
   "codemirror_mode": {
    "name": "ipython",
    "version": 3
   },
   "file_extension": ".py",
   "mimetype": "text/x-python",
   "name": "python",
   "nbconvert_exporter": "python",
   "pygments_lexer": "ipython3",
   "version": "3.9.13"
  }
 },
 "nbformat": 4,
 "nbformat_minor": 2
}
