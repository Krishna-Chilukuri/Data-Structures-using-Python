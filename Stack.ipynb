{
 "cells": [
  {
   "cell_type": "code",
   "execution_count": 11,
   "metadata": {},
   "outputs": [
    {
     "name": "stdout",
     "output_type": "stream",
     "text": [
      "10 20 30 \n",
      "Popped Value:  30\n",
      "Current Top:  20\n",
      "10 20 \n"
     ]
    }
   ],
   "source": [
    "class Stack:\n",
    "    def __init__(self) -> None:\n",
    "        self.__stacku = []\n",
    "    def push(self, val):\n",
    "        if(len(self.__stacku)>=25):\n",
    "            print(\"Stack size exceeded\")\n",
    "            return\n",
    "        self.__stacku.append(val)\n",
    "        return\n",
    "\n",
    "    def pop(self):\n",
    "        if(len(self.__stacku)<1):\n",
    "            print(\"Stack is Empty!!\")\n",
    "            return\n",
    "        poppedVal = self.__stacku[-1]\n",
    "        self.__stacku = self.__stacku[:len(self.__stacku)-1]\n",
    "        return poppedVal\n",
    "\n",
    "    def top(self):#top or peek\n",
    "        if(len(self.__stacku)<1):\n",
    "            print(\"Stack is Empty\")\n",
    "            return\n",
    "        return self.__stacku[len(self.__stacku)-1]\n",
    "    def printer(self):\n",
    "        for i in self.__stacku:\n",
    "            print(i,end= \" \")\n",
    "        print()\n",
    "\n",
    "stack1 = Stack()\n",
    "stack1.push(10)\n",
    "stack1.push(20)\n",
    "stack1.push(30)\n",
    "# print(stack1, stack1.__stacku)\n",
    "stack1.printer()\n",
    "print(\"Popped Value: \", stack1.pop())\n",
    "print(\"Current Top: \", stack1.top())\n",
    "stack1.printer()"
   ]
  }
 ],
 "metadata": {
  "kernelspec": {
   "display_name": "base",
   "language": "python",
   "name": "python3"
  },
  "language_info": {
   "name": "python",
   "version": "3.9.13"
  }
 },
 "nbformat": 4,
 "nbformat_minor": 2
}
