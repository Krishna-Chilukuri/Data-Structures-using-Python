{
 "cells": [
  {
   "cell_type": "markdown",
   "metadata": {},
   "source": [
    "# <b><center>Data Structures</center></b>"
   ]
  },
  {
   "cell_type": "markdown",
   "metadata": {},
   "source": [
    "<u><b>Data Structure:</u></b> <br>\n",
    "* A Data Structure is a specific way of storing and organizing data such that it can be retrieved and used efficiently based upon the need. <br>\n",
    "* It is a way of arranging data on a computer so that it can be accessed and updated efficiently.\n"
   ]
  },
  {
   "cell_type": "markdown",
   "metadata": {},
   "source": [
    "<b><u>Applications of Data Structures:</b></u> As apps are getting complex and data centered with lots of it, there are some problems these apps face\n",
    "* Data Search : As the amount of data being stored increases, the search time increases drastically based on the search method used.\n",
    "* Processor Speed : Although servers have high processing speed but it needs time to process huge number of records.\n",
    "* Multiple Requests\n",
    "\n",
    "The following are some major operations done on data structures:-\n",
    "<ol>\n",
    "<li>Search</li>\n",
    "<li>Traversal</li>\n",
    "<li>Sort</li>\n",
    "<li>Insert</li>\n",
    "<li>Update</li>\n",
    "<li>Delete</li>\n",
    "</ol>"
   ]
  },
  {
   "cell_type": "markdown",
   "metadata": {},
   "source": [
    "<u><b>Terminology:</b></u>\n",
    "<ol>\n",
    "<li>Data : Data is a value or a set of values</li>\n",
    "<li>Data Item : Data item refers to single unit of values</li>\n",
    "<li>Group Item : Data items that are divided into sub items</li>\n",
    "<li>Elementary Item : Data items that cannot be divided into sub items</li>\n",
    "<li>Entity Set : Entities of similar attirbutes form an entity set</li>\n",
    "<li>Field : Field is a single elementary unit of information representing an attribute of an entity</li>\n",
    "<li>Record : Record is a collection of field values of a given entity</li>\n",
    "<li>File : File is a collection of records of the entities in a given entity set</li>"
   ]
  },
  {
   "cell_type": "markdown",
   "metadata": {},
   "source": [
    "<u><b>Abstract Data Types:</u></b> <br>\n",
    "The behaviour of these data types is defined by a set of values and a set of operations. \n",
    "<ol>\n",
    "<li> The definition of ADT only mentions what operations are to be performed but not how there operations will be implemented.</li>\n",
    "<li> It does not specify how data will be organized in memory and what algorithms will be used for implementing the operations</li>\n",
    "<li> It is abstract because it gives an implementation independent view </li>"
   ]
  },
  {
   "cell_type": "markdown",
   "metadata": {},
   "source": [
    "<b><u>Types of Data Structures</u></b>: There are two types of data structures:-\n",
    "<ol>\n",
    "<li> <b>Primitive (or) Built-in Data Types </b>: bool, int, char, float, double</li>\n",
    "<li> <b>Non-Primitive (or) Derived Data Types</b>: These are further divided into 2:-\n",
    "<ol type=\"a\">\n",
    "<li>Linear Data Structure</li>\n",
    "<li>Non-Linear Data Structure</li></li>"
   ]
  },
  {
   "cell_type": "markdown",
   "metadata": {},
   "source": [
    "<img src=\"ds_classification.jpg\">"
   ]
  },
  {
   "cell_type": "markdown",
   "metadata": {},
   "source": [
    "<u><b><h4>Linear Data Structure:</h4></u></b>\n",
    "Data structure in which data is arranged sequentially or linearly.\n",
    "<br>Eg: Array, Stack, Queue, Linked List, etc. \n",
    "<br><u>Static Data Structure:</u>  It has fixed memory size. It is easier to access elements in a static data structure. (Array)\n",
    "<br><u>Dynamic Data Structure:</u> In these, the size is not fixed. It can be updated during run time -> efficient as per space complexity"
   ]
  },
  {
   "cell_type": "markdown",
   "metadata": {},
   "source": [
    "<u><b><h4>Non-Linear Data Structure:</h4></u></b>\n",
    "Data structures where data elements are not placed sequentially. These are dynamic data structures<br>\n",
    "Eg: Tree, Graph"
   ]
  },
  {
   "cell_type": "markdown",
   "metadata": {},
   "source": [
    "<h3><b>Arrays or Lists</h3></b>"
   ]
  },
  {
   "cell_type": "markdown",
   "metadata": {},
   "source": [
    "An array is:\n",
    "<ol>\n",
    "<li> Fixed in size during declaration</li>\n",
    "<li> Stores homogenous data</li>\n",
    "<li> Uses adjacent memory locations to store data (contiguous memory locations)</li>\n",
    "</ol>"
   ]
  },
  {
   "cell_type": "markdown",
   "metadata": {},
   "source": []
  }
 ],
 "metadata": {
  "language_info": {
   "name": "python"
  },
  "orig_nbformat": 4
 },
 "nbformat": 4,
 "nbformat_minor": 2
}
