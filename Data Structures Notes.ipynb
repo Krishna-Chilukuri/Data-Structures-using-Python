{
 "cells": [
  {
   "cell_type": "markdown",
   "metadata": {},
   "source": [
    "# <b><center>Data Structures</center></b>"
   ]
  },
  {
   "cell_type": "markdown",
   "metadata": {},
   "source": [
    "<u><b>Data Structure:</u></b> <br>\n",
    "* A Data Structure is a specific way of storing and organizing data such that it can be retrieved and used efficiently based upon the need. <br>\n",
    "* It is a way of arranging data on a computer so that it can be accessed and updated efficiently.\n"
   ]
  },
  {
   "cell_type": "markdown",
   "metadata": {},
   "source": [
    "<b><u>Applications of Data Structures:</b></u> As apps are getting complex and data centered with lots of it, there are some problems these apps face\n",
    "* Data Search : As the amount of data being stored increases, the search time increases drastically based on the search method used.\n",
    "* Processor Speed : Although servers have high processing speed but it needs time to process huge number of records.\n",
    "* Multiple Requests\n",
    "\n",
    "The following are some major operations done on data structures:-\n",
    "<ol>\n",
    "<li>Search</li>\n",
    "<li>Traversal</li>\n",
    "<li>Sort</li>\n",
    "<li>Insert</li>\n",
    "<li>Update</li>\n",
    "<li>Delete</li>\n",
    "</ol>"
   ]
  },
  {
   "cell_type": "markdown",
   "metadata": {},
   "source": [
    "<u><b>Terminology:</b></u>\n",
    "<ol>\n",
    "<li>Data : Data is a value or a set of values</li>\n",
    "<li>Data Item : Data item refers to single unit of values</li>\n",
    "<li>Group Item : Data items that are divided into sub items</li>\n",
    "<li>Elementary Item : Data items that cannot be divided into sub items</li>\n",
    "<li>Entity Set : Entities of similar attirbutes form an entity set</li>\n",
    "<li>Field : Field is a single elementary unit of information representing an attribute of an entity</li>\n",
    "<li>Record : Record is a collection of field values of a given entity</li>\n",
    "<li>File : File is a collection of records of the entities in a given entity set</li>"
   ]
  },
  {
   "cell_type": "markdown",
   "metadata": {},
   "source": [
    "<u><b>Abstract Data Types:</u></b> <br>\n",
    "The behaviour of these data types is defined by a set of values and a set of operations. \n",
    "<ol>\n",
    "<li> The definition of ADT only mentions what operations are to be performed but not how there operations will be implemented.</li>\n",
    "<li> It does not specify how data will be organized in memory and what algorithms will be used for implementing the operations</li>\n",
    "<li> It is abstract because it gives an implementation independent view </li>"
   ]
  },
  {
   "cell_type": "markdown",
   "metadata": {},
   "source": [
    "<b><u>Types of Data Structures</u></b>: There are two types of data structures:-\n",
    "<ol>\n",
    "<li> <b>Primitive (or) Built-in Data Types </b>: bool, int, char, float, double</li>\n",
    "<li> <b>Non-Primitive (or) Derived Data Types</b>: These are further divided into 2:-\n",
    "<ol type=\"a\">\n",
    "<li>Linear Data Structure</li>\n",
    "<li>Non-Linear Data Structure</li></li>"
   ]
  },
  {
   "cell_type": "markdown",
   "metadata": {},
   "source": [
    "<img src=\"ds_classification.jpg\">"
   ]
  },
  {
   "cell_type": "markdown",
   "metadata": {},
   "source": [
    "<u><b><h4>Linear Data Structure:</h4></u></b>\n",
    "Data structure in which data is arranged sequentially or linearly.\n",
    "<br>Eg: Array, Stack, Queue, Linked List, etc. \n",
    "<br><u>Static Data Structure:</u>  It has fixed memory size. It is easier to access elements in a static data structure. (Array)\n",
    "<br><u>Dynamic Data Structure:</u> In these, the size is not fixed. It can be updated during run time -> efficient as per space complexity (Stack, Queue)"
   ]
  },
  {
   "cell_type": "markdown",
   "metadata": {},
   "source": [
    "<u><b><h4>Non-Linear Data Structure:</h4></u></b>\n",
    "Data structures where data elements are not placed sequentially. These are dynamic data structures<br>\n",
    "Eg: Tree, Graph"
   ]
  },
  {
   "cell_type": "markdown",
   "metadata": {},
   "source": [
    "<h3><b>Arrays or Lists</h3></b>"
   ]
  },
  {
   "cell_type": "markdown",
   "metadata": {},
   "source": [
    "An array is:\n",
    "<ol>\n",
    "<li> Fixed in size during declaration</li>\n",
    "<li> Stores homogenous data</li>\n",
    "<li> Uses adjacent memory locations to store data (contiguous memory locations)</li>\n",
    "</ol>"
   ]
  },
  {
   "cell_type": "markdown",
   "metadata": {},
   "source": [
    "<h3><b>Stacks</h3></b>"
   ]
  },
  {
   "cell_type": "markdown",
   "metadata": {},
   "source": []
  },
  {
   "cell_type": "markdown",
   "metadata": {},
   "source": [
    "<h3><b>Trees</h3></b>"
   ]
  },
  {
   "cell_type": "markdown",
   "metadata": {},
   "source": [
    "A tree is a hierarchical data structure that is used to organiza data in a way that is easy to navigate and search. It is a collection of nodes connected by edges and has a hierarchical relationship between the nodes.\n",
    "\n",
    "* The topmost node of a tree is called as <b>root</b>\n",
    "* The data in a tree is not stored in a sequential manner i.e., they are not stored linearly. Instead, they are arranged on multiple levels or we can say it is a hierarchical structure."
   ]
  },
  {
   "cell_type": "markdown",
   "metadata": {},
   "source": [
    "Trees can be represented in two ways as listed below:\n",
    "* Dynamic Node Representation (Linked Representation).\n",
    "* Array Representation (Sequential Representation). [root, leftChildOfRoot, rightChildOfRoot, leftChildOfLeftChildOfRoot,......]"
   ]
  },
  {
   "cell_type": "markdown",
   "metadata": {},
   "source": [
    "<h4><u>Terminologies in Trees</h4></u>"
   ]
  },
  {
   "cell_type": "markdown",
   "metadata": {},
   "source": [
    "Current Node = 'X'\n",
    "<ol>\n",
    "<li>Parent Node: The node which is the immediate predecessor of the current node 'X' is called as a parent node of 'X'.</li>\n",
    "<li>Child Node: The nodes which are the immediate successors of the current node 'X' are called as children node of 'X'.</li>\n",
    "<li>Neighbour of a Node: Parent or Child nodes of a node are called as neighbours of that node.</li>\n",
    "<li>Root Node: The topmost node of a tree is called as root node. It doesn't have any parent as it is the topmost in hierarchy. A non empty tree must ccontain exactly one root node and exactly one path from root to each node in the tree</li>\n",
    "<li>Leaf (or) External Node: The nodes which have no children are called as leaf nodes or leaves of a tree.</li>\n",
    "<li>Internal Node: A node with atleast one child is called as Internal Node.</li>\n",
    "<li>Ancestor Nodes: Any nodes on the path from root to current node 'X' are called as Ancestor nodes of 'X'</li>\n",
    "<li>Descendant: Any successor node on the path from the leaf node to the node. In the below image {E, I} are descendants of {B}</li>\n",
    "<li>Sibling: Nodes with same parent are called as Siblings.</li>\n",
    "<li>Level of a Node: Number of edges from root to a node is called level of a node. For root, it is 0.</li>\n",
    "</ol>\n",
    "<img src = \"Treedatastructure.png\" width = 50% height = 50%>"
   ]
  },
  {
   "cell_type": "markdown",
   "metadata": {},
   "source": [
    "<h4><u>Properties of Trees</h4></u>"
   ]
  },
  {
   "cell_type": "markdown",
   "metadata": {},
   "source": [
    "<ol>\n",
    "<li>Number of Edges: If a tree has 'N' nodes, it will and should have 'N-1' edges. There will only be 1 path from each node to every other node of a tree.</li>\n",
    "<li><b><u>Depth of a Node:</u></b> Depth of a node = Length of path from root to that node. Eg: Depth of E = 2</li>\n",
    "<li><b><u>Height of a Node:</u></b> Height of a node = Length of longest path from that node to leaf. Eg: Height of C = 3</li>\n",
    "<li>Height of Tree: Same as height of root, i.e. longest path from root to leaf</li>\n",
    "<li>Degree of Node: Total count of subtrees attached to that node is called as degree of node. Degree of leaf = 0. Degree of a tree is the maximum degree of a node among all nodes in the tree.</li>\n",
    "</ol>"
   ]
  },
  {
   "cell_type": "markdown",
   "metadata": {},
   "source": [
    "<h4><u>Some Applications of Trees</h4></u>"
   ]
  },
  {
   "cell_type": "markdown",
   "metadata": {},
   "source": [
    "<ol>\n",
    "<li>File System of a PC</li>\n",
    "<li>Data Compression: Eg: Huffman Coding constructs a binary tree with leaves representing chars and their frequency. This tree is used to encode data that minimizes storage needed.</li>\n",
    "<li>Compiler Design: In compiler design, a syntax tree is used to represent structure of a program</li>\n",
    "<li>Database Indexing: B-trees and other tree structures are used in database indexing to efficiently search and retrieve data.</li>\n",
    "</ol>"
   ]
  },
  {
   "cell_type": "markdown",
   "metadata": {},
   "source": [
    "<table>\n",
    "    <caption>Tree Comparision Table</caption>\n",
    "    <thead>\n",
    "        <tr>\n",
    "            <th>Data Structure</th>\n",
    "            <th>Search / Access</th>\n",
    "            <th>Insertion / Deletion</th> \n",
    "        </tr>\n",
    "    </thead>\n",
    "    <tbody>\n",
    "        <tr>\n",
    "            <td>Array</td>\n",
    "            <td>Tree is Slower than Array</td>\n",
    "            <td>Tree is Faster than Array</td>\n",
    "        </tr>\n",
    "        <tr>\n",
    "            <td>Linked List</td>\n",
    "            <td>Tree is Faster than LL</td>\n",
    "            <td>Tree is Slower than Unordered LL</td>\n",
    "        </tr>\n",
    "    </tbody>\n",
    "</table>\n",
    "<u>Note</u>: To delete a node, we have to search for it and then delete it"
   ]
  },
  {
   "cell_type": "markdown",
   "metadata": {},
   "source": [
    "<h4><u>Advantages and Disadvantages of Trees</h4></u>\n",
    "\n",
    "<table>\n",
    "    <caption>Advantages & Disadvantages</caption>\n",
    "    <thead>\n",
    "        <tr>\n",
    "            <th>Advantages</th>\n",
    "            <th>Disadvantages</th>\n",
    "        </tr>\n",
    "    </thead>\n",
    "    <tbody>\n",
    "        <tr>\n",
    "            <td>Tree offer Efficient Searching Depending on the type of tree, with average search times of O(log n) for balanced trees like AVL</td>\n",
    "            <td>Unbalanced Trees, meaning that the height of the tree is skewed towards one side, which can lead to inefficient search times.</td>\n",
    "        </tr>\n",
    "        <tr>\n",
    "            <td>Trees provide a hierarchical representation of data, making it easy to organize and navigate large amounts of information.</td>\n",
    "            <td>Trees demand more memory space requirements than some other data structures like arrays and linked lists, especially if the tree is very large.</td>\n",
    "        </tr>\n",
    "        <tr>\n",
    "            <td>The recursive nature of trees makes them easy to traverse and manipulate using recursive algorithms.</td>\n",
    "            <td>The implementation and manipulation of trees can be complex and require a good understanding of the algorithms.</td>\n",
    "        </tr>\n",
    "    </tbody>\n",
    "</table>"
   ]
  },
  {
   "cell_type": "markdown",
   "metadata": {},
   "source": [
    "<h4><u>Types of Trees</h4></u>"
   ]
  },
  {
   "cell_type": "markdown",
   "metadata": {},
   "source": [
    "<ol>\n",
    "<li><b><u>Binary Tree</b></u>: Each node can have a maximum of 2 children linked to it. This again has some types:\n",
    "<ol>\n",
    "<li>Full Binary Tree</li>\n",
    "<li>Complete Binary Tree</li>\n",
    "<li>Balanced Binary Tree</li>\n",
    "<li>Degenerate or pathological binary Trees</li>\n",
    "</ol>\n",
    "<li><b><u>Ternary Tree</b></u>: Each node has at most three child nodes, usually distinguished as “left”, “mid” and “right”.</li>\n",
    "<li><b><u>N-ary Tree</b></u>: Each node can have n children. Generic trees are a collection of nodes where each node is a data structure that consists of records and a list of references to its children(duplicate references are not allowed). Unlike the linked list, each node stores the address of multiple nodes.\n",
    "</ol>"
   ]
  },
  {
   "cell_type": "markdown",
   "metadata": {},
   "source": [
    "<u>Binary Tree</u>: \n",
    "<ol>\n",
    "<li>Full Binary Tree: A full binary tree is a binary tree with either zero or two child nodes for each node.\n",
    "Full Binary Tree Theorem: Let T be a nonempty, full binary tree. Properties:-\n",
    "<ul><li>If T has I internal nodes, the number of leaves is L = I + 1.</li>\n",
    "<li>If T has I internal nodes, the total number of nodes is N = 2I + 1.</li>\n",
    "<li>If T has a total of N nodes, the number of internal nodes is I = (N – 1)/2.</li>\n",
    "<li>If T has a total of N nodes, the number of leaves is L = (N + 1)/2.</li>\n",
    "<li>If T has L leaves, the total number of nodes is N = 2L – 1.</li>\n",
    "<li>If T has L leaves, the number of internal nodes is I = L – 1. </li>\n",
    "</ul></li>\n",
    "<li>Complete Binary Tree: A complete binary tree is a special type of binary tree where all the levels of the tree are filled completely except the <b>lowest level nodes which are filled from as left to right</b>. Properties:-\n",
    "<ul>\n",
    "<li>A complete binary tree is said to be a proper binary tree where all leaves have the same depth.</li>\n",
    "<li>In a complete binary tree number of nodes at depth d is 2d. </li>\n",
    "<li>In a  complete binary tree with n nodes height of the tree is log(n+1).</li>\n",
    "<li>All the levels except the last level are completely full.</li></ul>\n",
    "</li>\n",
    "<li>Perfect Binary Tree: A perfect binary tree is a special type of binary tree in which <b>all the leaf nodes are at the same depth, and all non-leaf nodes have two children</b>. In simple terms, this means that all leaf nodes are at the maximum depth of the tree, and the tree is completely filled with no gaps. In other words, it can be said that each level of the tree is completely filled by the nodes.<br><br>\n",
    "<u>Complete VS Perfect: </u><ul><li>A binary tree of height ‘h’ having the maximum number of nodes is a perfect binary tree. \n",
    "For a given height h, the maximum number of nodes is 2h+1-1.</li>\n",
    "<li>A complete binary tree of height h is a perfect binary tree up to height h-1, and in the last level element are stored in left to right order.</li></ul>\n",
    "</li>\n",
    "<li>Balanced Binary Tree: A height balanced binary tree is a binary tree in which the height of the left subtree and right subtree of any node does not differ by more than 1 and both the left and right subtree are also height balanced.</li>\n",
    "\n",
    "<li>Degenerate Binary Tree: Every non-leaf node has just one child in a binary tree known as a Degenerate Binary tree. The tree effectively transforms into a linked list as a result, with each node linking to its single child. These are again of 2 types:<ol>\n",
    "<li>Left-skewed Tree:  If all the nodes in the degenerate tree have only a left child.</li>\n",
    "<li>Right-skewed Tree: If all the nodes in the degenerate tree have only a right child.</li>\n",
    "</ol></li>\n",
    "\n",
    "\n",
    "</ol>"
   ]
  },
  {
   "cell_type": "markdown",
   "metadata": {},
   "source": [
    "<img src = \"CompBinT.png\" width = \"250\" height = \"250\"><img src = \"DegenT.png\" width = \"250\" height = \"250\"><img src = \"fullBinT.png\" width = \"250\" height = \"250\"><img src = \"PerfBinT.png\" width = \"250\" height = \"250\"><img src = \"SkewsBinT.png\" width = \"350\" height = \"250\"><img src = \"TreeBalancing.png\" width = \"350\" height = \"250\">"
   ]
  },
  {
   "cell_type": "markdown",
   "metadata": {},
   "source": [
    "<h3><b>Graphs</h3></b>"
   ]
  },
  {
   "cell_type": "markdown",
   "metadata": {},
   "source": [
    "\n",
    "\n",
    "Graphs To-Do:\n",
    "    Traversals - BFS, DFS\n",
    "    Representation - Linked Lists, Adjacency Matrix"
   ]
  },
  {
   "cell_type": "markdown",
   "metadata": {},
   "source": [
    "* A Graph is a non-linear data structure consisting of vertices and edges. \n",
    "* Vertices = Nodes\n",
    "* Edges = Arcs or Lines connecting 2 nodes.\n",
    "* More formally a Graph is composed of a set of vertices( V ) and a set of edges( E ). The graph is denoted by G(E, V)."
   ]
  },
  {
   "cell_type": "markdown",
   "metadata": {},
   "source": [
    "<h4>Components of a Graph</h4>\n",
    "<ol>\n",
    "<li>Vertices: These are the fundamental units of graph. Every node/ vertex can be labelled or unlabelled.</li>\n",
    "<li>Edges: used to connect two nodes of the graph. It can be ordered pair of nodes in a directed graph. Edges can connect any two nodes in any possible way. There are no rules. Sometimes, edges are also known as arcs. Every edge can be labeled/unlabelled</li>\n",
    "</ol>\n",
    "\n",
    "<h4>Uses or Applications of Graphs</h4> These are used to solve many real-life problems\n",
    "<ol>\n",
    "<li>Graphs are used to represent networks. The networks may include paths in a city or telephone network or circuit network</li>\n",
    "<li>Graphs are also used in social networks like linkedIn, Facebook. For example, in Facebook, each person is represented with a vertex(or node). Each node is a structure and contains information like person id, name, gender, locale etc. Also, the edges are like some relation between 2 nodes (being friends in fb)</li>\n",
    "<li>Very useful in recommendation systems</li>\n",
    "</ol>"
   ]
  },
  {
   "cell_type": "markdown",
   "metadata": {},
   "source": [
    "<h4>Properties of Graphs</h4>\n",
    "<ol>\n",
    "<li>Vertices (nodes): The points where edges meet in a graph are known as vertices or nodes.</li>\n",
    "<li>Edges: The connections between vertices are known as edges. They can be undirected or directed.</li>\n",
    "<li>Weight: A weight can be assigned to an edge, representing the cost or distance between two vertices.</li>\n",
    "<li>Degree: The degree of a vertex is the number of edges that connect to it. In a directed graph, the in-degree of a vertex is the number of edges that point to it, and the out-degree is the number of edges that start from it.</li>\n",
    "<li>Path: A path is a sequence of vertices that are connected by edges. A simple path does not contain any repeated vertices or edges.</li>\n",
    "<li>Cycle: A cycle is a path that starts and ends at the same vertex. A simple cycle does not contain any repeated vertices or edges.</li>\n",
    "<li>Connectedness: A graph is said to be connected if there is a path between any two vertices. A disconnected graph is a graph that is not connected.</li>\n",
    "<li>Planarity: A graph is said to be planar if it can be drawn on a plane without any edges crossing each other.</li>\n",
    "<li>Bipartiteness: A graph is said to be bipartite if its vertices can be divided into two disjoint sets such that no two vertices in the same set are connected by an edge.</li>\n",
    "</ol>"
   ]
  },
  {
   "cell_type": "markdown",
   "metadata": {},
   "source": [
    "<h4>Trees VS Graphs</h4>\n",
    "<ul>\n",
    "<li>Trees are the restricted types of graphs, just with some more rules. Every tree will always be a graph but not all graphs will be trees.</li>\n",
    "<li>Linked Lists, Trees and Heaps are all special cases of Graphs.</li>\n",
    "</ul>\n",
    "<img src = \"treesvsgraphs.png\"/>"
   ]
  },
  {
   "cell_type": "markdown",
   "metadata": {},
   "source": [
    "<h4>Types of Graphs</h4>"
   ]
  },
  {
   "cell_type": "markdown",
   "metadata": {},
   "source": [
    "<ol>\n",
    "<li><b>Undirected Graphs</b>: A graph in which edges have no direction, i.e., the edges do not have arrows indicating the direction of traversal. Example: A social network graph where friendships are not directional.</li>\n",
    "<li><b>Directed Graphs</b>: A graph in which edges have a direction, i.e., the edges have arrows indicating the direction of traversal. Example: A web page graph where links between pages are directional.</li>\n",
    "<li><b>Finite Graphs</b>: A graph is said to be finite if it has a finite number of vertices and a finite number of edges. A finite graph is a graph with a finite number of vertices and edges. In other words, both the number of vertices and the number of edges in a finite graph are limited and can be counted. Finite graphs are often used to model real-world situations, where there is a limited number of objects and relationships between the nodes</li>\n",
    "<li><b>Infinite Graphs</b>: A graph is said to be infinite if it has an infinite number of vertices as well as an infinite number of edges.</li>\n",
    "<li><b>Weighted Graphs</b>: A graph in which edges have weights or costs associated with them like A road network graph where the weights can represent the distance between two cities.</li>\n",
    "<li><b>Unweighted Graphs</b>: A graph in which edges have no weights or costs associated with them like A social network graph where the edges represent friendships.</li>\n",
    "<li><b>Complete Graphs</b>: A graph in which each vertex is connected to every other vertex like in TSP (travelling salesman problem)</li>\n",
    "<li><b>Bipartite Graphs</b>: A graph in which the vertices can be divided into two disjoint sets such that every edge connects a vertex in one set to a vertex in the other set. Example: A job applicant graph where the vertices can be divided into job applicants and job openings.</li>\n",
    "<li><b>Sparse Graphs</b>: A graph with relatively few edges compared to the number of vertices.</li>\n",
    "<li><b>Dense Graphs</b>: A graph with many edges compared to the number of vertices. Example: A social network graph where each vertex represents a person and each edge represents a friendship.</li>\n",
    "<li><b>Trivial Graphs</b>: A graph is said to be trivial if a finite graph contains only one vertex and no edge. It is also known as a singleton graph or a single vertex graph. A trivial graph is the simplest type of graph and is often used as a starting point for building more complex graphs.</li>\n",
    "<li><b>Simple Graph</b>: A simple graph is a graph that does not contain more than one edge between the pair of vertices. A simple railway track connecting different cities is an example of a simple graph.</li>\n",
    "<li><b>Multi Graph</b>: Any graph which contains some parallel edges but doesn’t contain any self-loop is called a multigraph. For example a Road Map.<ul>\n",
    "<li>Parallel Edges: If two vertices are connected with more than one edge then such edges are called parallel edges that are many routes but one destination.</li>\n",
    "<li>Loop: An edge of a graph that starts from a vertex and ends at the same vertex is called a loop or a self-loop.</li></ul></li>\n",
    "<li><b>Null Graph</b>: A null graph is a graph with no edges. In other words, it is a graph with only vertices and no connections between them. A null graph can also be referred to as an edgeless graph, an isolated graph, or a discrete graph.</li>\n",
    "<li><b>Pseudo Graph</b>: A graph G with a self-loop and some multiple edges is called a pseudo graph. A pseudograph is a type of graph that allows for the existence of loops (edges that connect a vertex to itself) and multiple edges (more than one edge connecting two vertices). In contrast, a simple graph is a graph that does not allow for loops or multiple edges. </li>\n",
    "<li><b>Transpose Graph</b>: Transpose of a directed graph G is another directed graph on the same set of vertices with all of the edges reversed compared to the orientation of the corresponding edges in G. That is, if G contains an edge (u, v) then the converse/transpose/reverse of G contains an edge (v, u). </li>\n",
    "</ol>"
   ]
  },
  {
   "cell_type": "markdown",
   "metadata": {},
   "source": [
    "<img src=\"directedGraph.jpg\" width = \"250\" height = \"250\"/>\n",
    "<img src=\"finiteGraphs.png\" width = \"250\" height = \"250\"/>\n",
    "<img src=\"infiniteGraphs.png\" width = \"250\" height = \"250\"/>\n",
    "<img src=\"trivialGraphs.png\" width = \"350\" height = \"250\"/>\n",
    "<img src=\"nullGraph.png\" width = \"350\" height = \"250\"/>\n",
    "<img src=\"completeGraph.png\" width = \"300\" height = \"250\"/>\n",
    "<img src=\"pseudoGraph.png\" width = \"250\" height = \"250\"/>\n",
    "<img src=\"connectedGraph.png\" width = \"450\" height = \"250\"/>\n",
    "<img src=\"cyclicGraph.png\" width = \"250\" height = \"250\"/>\n",
    "<img src=\"simpleGraph.png\" width = \"250\" height = \"250\"/>\n",
    "<img src=\"multiGraph.png\" width = \"250\" height = \"250\"/>"
   ]
  },
  {
   "cell_type": "markdown",
   "metadata": {},
   "source": [
    "<h4>Advantages of Graphs</h4>\n",
    "<ol>\n",
    "<li>Graphs can be used to model and analyze complex systems and relationships.</li>\n",
    "<li>They are useful for visualizing and understanding data.</li>\n",
    "<li>Graph algorithms are widely used in computer science and other fields, such as social network analysis, logistics, and transportation.</li>\n",
    "<li>Graphs can be used to represent a wide range of data types, including social networks, road networks, and the internet.</li>\n",
    "</ol>"
   ]
  },
  {
   "cell_type": "markdown",
   "metadata": {},
   "source": [
    "<h4>Disadvantages of Graphs</h4>\n",
    "<ol>\n",
    "<li>Large graphs can be difficult to visualize and analyze.</li>\n",
    "<li>Graph algorithms can be computationally expensive, especially for large graphs.</li>\n",
    "<li>The interpretation of graph results can be subjective and may require domain-specific knowledge.</li>\n",
    "<li>Graphs can be susceptible to noise and outliers, which can impact the accuracy of analysis results.</li>\n",
    "</ol>"
   ]
  },
  {
   "cell_type": "markdown",
   "metadata": {},
   "source": [
    "<h4> Representation of Graphs</h4>"
   ]
  },
  {
   "cell_type": "markdown",
   "metadata": {},
   "source": [
    "<ol>\n",
    "<li><b>Adjacency List</b>: An array of Lists is used to store edges between two vertices. The size of array is equal to the number of vertices (i.e, n). Each index in this array represents a specific vertex in the graph. The entry at the index i of the array contains a linked list containing the vertices that are adjacent to vertex i.</li>\n",
    "<li><b>Adjacency Matrix</b>: An adjacency matrix is a way of representing a graph as a matrix of boolean where these boolean represent a presence of an edge between vertices. Vertices are the indices of the matrix. For weighted graph, we use weight to represent edge between vertices</li>\n",
    "</ol>"
   ]
  },
  {
   "cell_type": "markdown",
   "metadata": {},
   "source": [
    "<table style = \"text-align: center\">\n",
    "<tr>\n",
    "    <th>Action</th>\n",
    "    <th>Adjacency Matrix</th>\n",
    "    <th>Adjacency List</th>\n",
    "</tr>\n",
    "<tr>\n",
    "    <td>Adding an Edge</td>\n",
    "    <td>O(1)</td>\n",
    "    <td>O(1)</td>\n",
    "</tr>\n",
    "<tr>\n",
    "    <td>Removing an Edge</td>\n",
    "    <td>O(1)</td>\n",
    "    <td>O(N)</td>\n",
    "</tr>\n",
    "<tr>\n",
    "    <td>Initialization</td>\n",
    "    <td>O(N^2)</td>\n",
    "    <td>O(N)</td>\n",
    "</tr>\n",
    "</table>"
   ]
  },
  {
   "cell_type": "markdown",
   "metadata": {},
   "source": []
  }
 ],
 "metadata": {
  "language_info": {
   "name": "python"
  },
  "orig_nbformat": 4
 },
 "nbformat": 4,
 "nbformat_minor": 2
}
