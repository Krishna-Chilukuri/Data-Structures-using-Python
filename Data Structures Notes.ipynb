{
 "cells": [
  {
   "cell_type": "markdown",
   "metadata": {},
   "source": [
    "# <b><center>Data Structures</center></b>"
   ]
  },
  {
   "cell_type": "markdown",
   "metadata": {},
   "source": [
    "<u><b>Data Structure:</u></b> <br>\n",
    "* A Data Structure is a specific way of storing and organizing data such that it can be retrieved and used efficiently based upon the need. <br>\n",
    "* It is a way of arranging data on a computer so that it can be accessed and updated efficiently.\n"
   ]
  },
  {
   "cell_type": "markdown",
   "metadata": {},
   "source": [
    "<b><u>Applications of Data Structures:</b></u> As apps are getting complex and data centered with lots of it, there are some problems these apps face\n",
    "* Data Search : As the amount of data being stored increases, the search time increases drastically based on the search method used.\n",
    "* Processor Speed : Although servers have high processing speed but it needs time to process huge number of records.\n",
    "* Multiple Requests\n",
    "\n",
    "The following are some major operations done on data structures:-\n",
    "<ol>\n",
    "<li>Search</li>\n",
    "<li>Traversal</li>\n",
    "<li>Sort</li>\n",
    "<li>Insert</li>\n",
    "<li>Update</li>\n",
    "<li>Delete</li>\n",
    "</ol>"
   ]
  },
  {
   "cell_type": "markdown",
   "metadata": {},
   "source": [
    "<u><b>Terminology:</b></u>\n",
    "<ol>\n",
    "<li>Data : Data is a value or a set of values</li>\n",
    "<li>Data Item : Data item refers to single unit of values</li>\n",
    "<li>Group Item : Data items that are divided into sub items</li>\n",
    "<li>Elementary Item : Data items that cannot be divided into sub items</li>\n",
    "<li>Entity Set : Entities of similar attirbutes form an entity set</li>\n",
    "<li>Field : Field is a single elementary unit of information representing an attribute of an entity</li>\n",
    "<li>Record : Record is a collection of field values of a given entity</li>\n",
    "<li>File : File is a collection of records of the entities in a given entity set</li>"
   ]
  },
  {
   "cell_type": "markdown",
   "metadata": {},
   "source": [
    "<u><b>Abstract Data Types:</u></b> <br>\n",
    "The behaviour of these data types is defined by a set of values and a set of operations. \n",
    "<ol>\n",
    "<li> The definition of ADT only mentions what operations are to be performed but not how there operations will be implemented.</li>\n",
    "<li> It does not specify how data will be organized in memory and what algorithms will be used for implementing the operations</li>\n",
    "<li> It is abstract because it gives an implementation independent view </li>"
   ]
  },
  {
   "cell_type": "markdown",
   "metadata": {},
   "source": [
    "<b><u>Types of Data Structures</u></b>: There are two types of data structures:-\n",
    "<ol>\n",
    "<li> <b>Primitive (or) Built-in Data Types </b>: bool, int, char, float, double</li>\n",
    "<li> <b>Non-Primitive (or) Derived Data Types</b>: These are further divided into 2:-\n",
    "<ol type=\"a\">\n",
    "<li>Linear Data Structure</li>\n",
    "<li>Non-Linear Data Structure</li></li>"
   ]
  },
  {
   "cell_type": "markdown",
   "metadata": {},
   "source": [
    "<img src=\"ds_classification.jpg\">"
   ]
  },
  {
   "cell_type": "markdown",
   "metadata": {},
   "source": [
    "<u><b><h4>Linear Data Structure:</h4></u></b>\n",
    "Data structure in which data is arranged sequentially or linearly.\n",
    "<br>Eg: Array, Stack, Queue, Linked List, etc. \n",
    "<br><u>Static Data Structure:</u>  It has fixed memory size. It is easier to access elements in a static data structure. (Array)\n",
    "<br><u>Dynamic Data Structure:</u> In these, the size is not fixed. It can be updated during run time -> efficient as per space complexity (Stack, Queue)"
   ]
  },
  {
   "cell_type": "markdown",
   "metadata": {},
   "source": [
    "<u><b><h4>Non-Linear Data Structure:</h4></u></b>\n",
    "Data structures where data elements are not placed sequentially. These are dynamic data structures<br>\n",
    "Eg: Tree, Graph"
   ]
  },
  {
   "cell_type": "markdown",
   "metadata": {},
   "source": [
    "<h3><b>Arrays or Lists</h3></b>"
   ]
  },
  {
   "cell_type": "markdown",
   "metadata": {},
   "source": [
    "An array is:\n",
    "<ol>\n",
    "<li> Fixed in size during declaration</li>\n",
    "<li> Stores homogenous data</li>\n",
    "<li> Uses adjacent memory locations to store data (contiguous memory locations)</li>\n",
    "</ol>"
   ]
  },
  {
   "cell_type": "markdown",
   "metadata": {},
   "source": [
    "<h3><b>Stacks</h3></b>"
   ]
  },
  {
   "cell_type": "markdown",
   "metadata": {},
   "source": []
  },
  {
   "cell_type": "markdown",
   "metadata": {},
   "source": [
    "<h3><b>Trees</h3></b>"
   ]
  },
  {
   "cell_type": "markdown",
   "metadata": {},
   "source": [
    "A tree is a hierarchical data structure that is used to organiza data in a way that is easy to navigate and search. It is a collection of nodes connected by edges and has a hierarchical relationship between the nodes.\n",
    "\n",
    "* The topmost node of a tree is called as <b>root</b>\n",
    "* The data in a tree is not stored in a sequential manner i.e., they are not stored linearly. Instead, they are arranged on multiple levels or we can say it is a hierarchical structure."
   ]
  },
  {
   "cell_type": "markdown",
   "metadata": {},
   "source": [
    "Trees can be represented in two ways as listed below:\n",
    "* Dynamic Node Representation (Linked Representation).\n",
    "* Array Representation (Sequential Representation). [root, leftChildOfRoot, rightChildOfRoot, leftChildOfLeftChildOfRoot,......]"
   ]
  },
  {
   "cell_type": "markdown",
   "metadata": {},
   "source": [
    "<h4><u>Terminologies in Trees</h4></u>"
   ]
  },
  {
   "cell_type": "markdown",
   "metadata": {},
   "source": [
    "Current Node = 'X'\n",
    "<ol>\n",
    "<li>Parent Node: The node which is the immediate predecessor of the current node 'X' is called as a parent node of 'X'.</li>\n",
    "<li>Child Node: The nodes which are the immediate successors of the current node 'X' are called as children node of 'X'.</li>\n",
    "<li>Neighbour of a Node: Parent or Child nodes of a node are called as neighbours of that node.</li>\n",
    "<li>Root Node: The topmost node of a tree is called as root node. It doesn't have any parent as it is the topmost in hierarchy. A non empty tree must ccontain exactly one root node and exactly one path from root to each node in the tree</li>\n",
    "<li>Leaf (or) External Node: The nodes which have no children are called as leaf nodes or leaves of a tree.</li>\n",
    "<li>Internal Node: A node with atleast one child is called as Internal Node.</li>\n",
    "<li>Ancestor Nodes: Any nodes on the path from root to current node 'X' are called as Ancestor nodes of 'X'</li>\n",
    "<li>Descendant: Any successor node on the path from the leaf node to the node. In the below image {E, I} are descendants of {B}</li>\n",
    "<li>Sibling: Nodes with same parent are called as Siblings.</li>\n",
    "<li>Level of a Node: Number of edges from root to a node is called level of a node. For root, it is 0.</li>\n",
    "</ol>\n",
    "<img src = \"Treedatastructure.png\" width = 50% height = 50%>"
   ]
  },
  {
   "cell_type": "markdown",
   "metadata": {},
   "source": [
    "<h4><u>Properties of Trees</h4></u>"
   ]
  },
  {
   "cell_type": "markdown",
   "metadata": {},
   "source": [
    "<ol>\n",
    "<li>Number of Edges: If a tree has 'N' nodes, it will and should have 'N-1' edges. There will only be 1 path from each node to every other node of a tree.</li>\n",
    "<li><b><u>Depth of a Node:</u></b> Depth of a node = Length of path from root to that node. Eg: Depth of E = 2</li>\n",
    "<li><b><u>Height of a Node:</u></b> Height of a node = Length of longest path from that node to leaf. Eg: Height of C = 3</li>\n",
    "<li>Height of Tree: Same as height of root, i.e. longest path from root to leaf</li>\n",
    "<li>Degree of Node: Total count of subtrees attached to that node is called as degree of node. Degree of leaf = 0. Degree of a tree is the maximum degree of a node among all nodes in the tree.</li>\n",
    "</ol>"
   ]
  },
  {
   "cell_type": "markdown",
   "metadata": {},
   "source": [
    "<h4><u>Some Applications of Trees</h4></u>"
   ]
  },
  {
   "cell_type": "markdown",
   "metadata": {},
   "source": [
    "<ol>\n",
    "<li>File System of a PC</li>\n",
    "<li>Data Compression: Eg: Huffman Coding constructs a binary tree with leaves representing chars and their frequency. This tree is used to encode data that minimizes storage needed.</li>\n",
    "<li>Compiler Design: In compiler design, a syntax tree is used to represent structure of a program</li>\n",
    "<li>Database Indexing: B-trees and other tree structures are used in database indexing to efficiently search and retrieve data.</li>\n",
    "</ol>"
   ]
  },
  {
   "cell_type": "markdown",
   "metadata": {},
   "source": [
    "<table>\n",
    "    <caption>Tree Comparision Table</caption>\n",
    "    <thead>\n",
    "        <tr>\n",
    "            <th>Data Structure</th>\n",
    "            <th>Search / Access</th>\n",
    "            <th>Insertion / Deletion</th> \n",
    "        </tr>\n",
    "    </thead>\n",
    "    <tbody>\n",
    "        <tr>\n",
    "            <td>Array</td>\n",
    "            <td>Tree is Slower than Array</td>\n",
    "            <td>Tree is Faster than Array</td>\n",
    "        </tr>\n",
    "        <tr>\n",
    "            <td>Linked List</td>\n",
    "            <td>Tree is Faster than LL</td>\n",
    "            <td>Tree is Slower than Unordered LL</td>\n",
    "        </tr>\n",
    "    </tbody>\n",
    "</table>\n",
    "<u>Note</u>: To delete a node, we have to search for it and then delete it"
   ]
  },
  {
   "cell_type": "markdown",
   "metadata": {},
   "source": [
    "<h4><u>Advantages and Disadvantages of Trees</h4></u>\n",
    "\n",
    "<table>\n",
    "    <caption>Advantages & Disadvantages</caption>\n",
    "    <thead>\n",
    "        <tr>\n",
    "            <th>Advantages</th>\n",
    "            <th>Disadvantages</th>\n",
    "        </tr>\n",
    "    </thead>\n",
    "    <tbody>\n",
    "        <tr>\n",
    "            <td>Tree offer Efficient Searching Depending on the type of tree, with average search times of O(log n) for balanced trees like AVL</td>\n",
    "            <td>Unbalanced Trees, meaning that the height of the tree is skewed towards one side, which can lead to inefficient search times.</td>\n",
    "        </tr>\n",
    "        <tr>\n",
    "            <td>Trees provide a hierarchical representation of data, making it easy to organize and navigate large amounts of information.</td>\n",
    "            <td>Trees demand more memory space requirements than some other data structures like arrays and linked lists, especially if the tree is very large.</td>\n",
    "        </tr>\n",
    "        <tr>\n",
    "            <td>The recursive nature of trees makes them easy to traverse and manipulate using recursive algorithms.</td>\n",
    "            <td>The implementation and manipulation of trees can be complex and require a good understanding of the algorithms.</td>\n",
    "        </tr>\n",
    "    </tbody>\n",
    "</table>"
   ]
  },
  {
   "cell_type": "markdown",
   "metadata": {},
   "source": [
    "<h4><u>Types of Trees</h4></u>"
   ]
  },
  {
   "cell_type": "markdown",
   "metadata": {},
   "source": [
    "<ol>\n",
    "<li><b><u>Binary Tree</b></u>: Each node can have a maximum of 2 children linked to it. This again has some types:\n",
    "<ol>\n",
    "<li>Full Binary Tree</li>\n",
    "<li>Complete Binary Tree</li>\n",
    "<li>Balanced Binary Tree</li>\n",
    "<li>Degenerate or pathological binary Trees</li>\n",
    "</ol>\n",
    "<li><b><u>Ternary Tree</b></u>: Each node has at most three child nodes, usually distinguished as “left”, “mid” and “right”.</li>\n",
    "<li><b><u>N-ary Tree</b></u>: Each node can have n children. Generic trees are a collection of nodes where each node is a data structure that consists of records and a list of references to its children(duplicate references are not allowed). Unlike the linked list, each node stores the address of multiple nodes.\n",
    "</ol>"
   ]
  },
  {
   "cell_type": "markdown",
   "metadata": {},
   "source": []
  }
 ],
 "metadata": {
  "language_info": {
   "name": "python"
  },
  "orig_nbformat": 4
 },
 "nbformat": 4,
 "nbformat_minor": 2
}
