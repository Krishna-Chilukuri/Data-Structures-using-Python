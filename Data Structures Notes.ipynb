{
 "cells": [
  {
   "cell_type": "markdown",
   "metadata": {},
   "source": [
    "# <b><center>Data Structures</center></b>"
   ]
  },
  {
   "cell_type": "markdown",
   "metadata": {},
   "source": [
    "<u><b>Data Structure:</u></b> <br>\n",
    "* A Data Structure is a specific way of storing and organizing data such that it can be retrieved and used efficiently based upon the need. <br>\n",
    "* It is a way of arranging data on a computer so that it can be accessed and updated efficiently.\n"
   ]
  },
  {
   "cell_type": "markdown",
   "metadata": {},
   "source": [
    "<b><u>Applications of Data Structures:</b></u> As apps are getting complex and data centered with lots of it, there are some problems these apps face\n",
    "* Data Search : As the amount of data being stored increases, the search time increases drastically based on the search method used.\n",
    "* Processor Speed : Although servers have high processing speed but it needs time to process huge number of records.\n",
    "* Multiple Requests\n",
    "\n",
    "The following are some major operations done on data structures:-\n",
    "<ol>\n",
    "<li>Search</li>\n",
    "<li>Sort</li>\n",
    "<li>Insert</li>\n",
    "<li>Update</li>\n",
    "<li>Delete</li>\n",
    "</ol>"
   ]
  },
  {
   "cell_type": "markdown",
   "metadata": {},
   "source": [
    "<b><u>Types of Data Structures</u></b>: There are two types of data structures:-\n",
    "<ol>\n",
    "<li> Primitive Data Structure: int, char, float, double</li>\n",
    "<li> Non-Primitive Data Structure: These are further divided into 2:-\n",
    "<ol type=\"a\">\n",
    "<li>Linear Data Structure</li>\n",
    "<li>Non-Linear Data Structure</li></li>"
   ]
  },
  {
   "cell_type": "markdown",
   "metadata": {},
   "source": []
  },
  {
   "cell_type": "markdown",
   "metadata": {},
   "source": []
  }
 ],
 "metadata": {
  "language_info": {
   "name": "python"
  },
  "orig_nbformat": 4
 },
 "nbformat": 4,
 "nbformat_minor": 2
}
