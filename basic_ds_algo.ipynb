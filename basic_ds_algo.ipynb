{
 "cells": [
  {
   "cell_type": "code",
   "execution_count": 1,
   "metadata": {},
   "outputs": [
    {
     "name": "stdout",
     "output_type": "stream",
     "text": [
      "10 => 0 => 1 => 2 => 3 => 4 => 5 => 6 => 7 => 8 => 9 => 10 => \n",
      "10,10,\n"
     ]
    }
   ],
   "source": [
    "#Linked Lists\n",
    "class LinkedListNode:\n",
    "    def __init__(self) -> None:\n",
    "        self.val = 0\n",
    "        self.next = None\n",
    "\n",
    "def findTargetLL(head, target):\n",
    "    curr = head\n",
    "    retList = []\n",
    "    while curr:\n",
    "        if curr.val == target:\n",
    "            retList.append(curr)\n",
    "        curr = curr.next\n",
    "    return retList\n",
    "\n",
    "def printLL(head):\n",
    "    curr = head\n",
    "    while curr:\n",
    "        print(curr.val, '=>', end = ' ')\n",
    "        curr = curr.next\n",
    "    print()\n",
    "\n",
    "def insertLL(head, val):\n",
    "    if not head:\n",
    "        head = LinkedListNode()\n",
    "        head.val = val\n",
    "        return head\n",
    "    curr = head\n",
    "    while curr.next:\n",
    "        curr = curr.next\n",
    "    curr.next = LinkedListNode()\n",
    "    curr = curr.next\n",
    "    curr.val = val\n",
    "    return head\n",
    "\n",
    "head = LinkedListNode()\n",
    "head.val = 10\n",
    "curr = None\n",
    "head.next = curr\n",
    "\n",
    "for i in range(11):\n",
    "    insertLL(head, i)\n",
    "\n",
    "printLL(head)\n",
    "for node in findTargetLL(head, 10):\n",
    "    print(node.val, end = ',')\n",
    "print()\n"
   ]
  },
  {
   "cell_type": "code",
   "execution_count": 2,
   "metadata": {},
   "outputs": [
    {
     "name": "stdout",
     "output_type": "stream",
     "text": [
      "[1, 5, 5, 2, 9, 5, 2, 3]\n",
      "[1, 2, 2, 3, 5, 5, 5, 9]\n"
     ]
    }
   ],
   "source": [
    "import random\n",
    "#Quick sort on list\n",
    "l = [1,5,5, 2,9,5,2,3]\n",
    "\n",
    "def partition(arr, l, r):\n",
    "    pivot = arr[r]\n",
    "\n",
    "    for i in range(l, r):\n",
    "        if arr[i] <= pivot:\n",
    "            arr[i], arr[l] = arr[l], arr[i]\n",
    "            l += 1\n",
    "    arr[l], arr[r] = arr[r], arr[l]\n",
    "    return l\n",
    "\n",
    "def quick_sort(arr, l, r):\n",
    "    if l < 0 or l >= r:\n",
    "        return\n",
    "    pivot = partition(arr, l, r)\n",
    "    quick_sort(arr, l, pivot - 1)\n",
    "    quick_sort(arr, pivot + 1, r)\n",
    "\n",
    "for i in range(100):\n",
    "    x = [random.randint(0, 1000) for _ in range(10000)]\n",
    "    x1 = sorted(x)\n",
    "    quick_sort(x, 0, len(x) - 1)\n",
    "    assert x1 == x\n",
    "print(l)\n",
    "quick_sort(l, 0, len(l) - 1)\n",
    "print(l)"
   ]
  },
  {
   "cell_type": "code",
   "execution_count": 4,
   "metadata": {},
   "outputs": [
    {
     "name": "stdout",
     "output_type": "stream",
     "text": [
      "10 => 563 => 959 => 957 => 511 => 858 => 312 => 668 => 253 => 987 => 117 => \n",
      "hjgjh 10\n",
      "hjgjh 10\n",
      "hjgjh 10\n",
      "hjgjh 959\n",
      "hjgjh 957\n",
      "hjgjh 858\n",
      "hjgjh 858\n",
      "hjgjh 312\n",
      "hjgjh 253\n",
      "hjgjh 987\n",
      "11\n",
      "10 => 117 => 253 => 312 => 511 => 563 => 668 => 858 => 957 => 959 => 987 => \n"
     ]
    }
   ],
   "source": [
    "def numOfNodesLL(head):\n",
    "    curr = head\n",
    "    nodes = 0\n",
    "    while curr:\n",
    "        nodes += 1\n",
    "        curr = curr.next\n",
    "    return nodes\n",
    "\n",
    "def merge(head1, head2):\n",
    "    if not head1 and head2:\n",
    "        return head2\n",
    "    if not head2 and head1:\n",
    "        return head1\n",
    "    curr1 = head1\n",
    "    curr2 = head2\n",
    "    head = None\n",
    "    tail = None\n",
    "\n",
    "    while curr1 and curr2:\n",
    "        if curr1.val <= curr2.val:\n",
    "            if not head:\n",
    "                head = LinkedListNode()\n",
    "                head.val = curr1.val\n",
    "                tail = head\n",
    "            else:\n",
    "                tail.next = LinkedListNode()\n",
    "                tail = tail.next\n",
    "                tail.val = curr1.val\n",
    "            curr1 = curr1.next\n",
    "        else:\n",
    "            if not head:\n",
    "                head = LinkedListNode()\n",
    "                head.val = curr2.val\n",
    "                tail = head\n",
    "            else:\n",
    "                tail.next = LinkedListNode()\n",
    "                tail = tail.next\n",
    "                tail.val = curr2.val\n",
    "            curr2 = curr2.next\n",
    "    while curr1:\n",
    "        if not head:\n",
    "            head = LinkedListNode()\n",
    "            head.val = curr1.val\n",
    "            tail = head\n",
    "        else:\n",
    "            tail.next = LinkedListNode()\n",
    "            tail = tail.next\n",
    "            tail.val = curr1.val\n",
    "        curr1 = curr1.next\n",
    "    while curr2:\n",
    "        if not head:\n",
    "            head = LinkedListNode()\n",
    "            head.val = curr2.val\n",
    "            tail = head\n",
    "        else:\n",
    "            tail.next = LinkedListNode()\n",
    "            tail = tail.next\n",
    "            tail.val = curr2.val\n",
    "        curr2 = curr2.next\n",
    "    return head\n",
    "\n",
    "def merge_sort(root):\n",
    "    n = numOfNodesLL(root)\n",
    "    if n <= 1:\n",
    "        return root\n",
    "    mid = n // 2 - 1\n",
    "    midNode = root\n",
    "    head1 = root\n",
    "    while mid > 0 and midNode.next:\n",
    "        midNode = midNode.next\n",
    "        mid -= 1\n",
    "    head2 = midNode.next\n",
    "    midNode.next = None\n",
    "    \n",
    "    print(\"hjgjh\", head1.val)\n",
    "    head1 = merge_sort(head1)\n",
    "    head2 = merge_sort(head2)\n",
    "\n",
    "    return merge(head1, head2)\n",
    "\n",
    "head = LinkedListNode()\n",
    "head.val = 10\n",
    "for i in range(10):\n",
    "    insertLL(head, random.randint(0, 1000))\n",
    "\n",
    "numNodes = numOfNodesLL(head)\n",
    "printLL(head)\n",
    "head = merge_sort(head)\n",
    "\n",
    "print(numNodes)\n",
    "printLL(head)"
   ]
  },
  {
   "cell_type": "code",
   "execution_count": null,
   "metadata": {},
   "outputs": [],
   "source": [
    "head = LinkedListNode()\n",
    "head.val = 1\n",
    "\n",
    "head = insertLL(head, 2)\n",
    "head = insertLL(head, 3)"
   ]
  },
  {
   "cell_type": "code",
   "execution_count": null,
   "metadata": {},
   "outputs": [],
   "source": [
    "head2 = LinkedListNode()\n",
    "head2.val = 1\n",
    "\n",
    "head2 = insertLL(head2, 1)\n",
    "head2 = insertLL(head2, 5)"
   ]
  },
  {
   "cell_type": "code",
   "execution_count": null,
   "metadata": {},
   "outputs": [
    {
     "name": "stdout",
     "output_type": "stream",
     "text": [
      "1 => 2 => 3 => \n",
      "1 => 2 => 3 => \n",
      "1 => 1 => 5 => \n"
     ]
    },
    {
     "data": {
      "text/plain": [
       "6"
      ]
     },
     "execution_count": 6,
     "metadata": {},
     "output_type": "execute_result"
    }
   ],
   "source": [
    "printLL(merge(head, None))\n",
    "printLL(head)\n",
    "printLL(head2)\n",
    "numOfNodesLL(merge(head, head2))"
   ]
  },
  {
   "cell_type": "code",
   "execution_count": 14,
   "metadata": {},
   "outputs": [
    {
     "name": "stdout",
     "output_type": "stream",
     "text": [
      "10 => 64 => 111 => 41 => 612 => 537 => 363 => 336 => 262 => 579 => 819 => \n",
      "hjgjh 10\n",
      "hjgjh 10\n",
      "hjgjh 10\n",
      "hjgjh 111\n",
      "hjgjh 41\n",
      "hjgjh 537\n",
      "hjgjh 537\n",
      "hjgjh 363\n",
      "hjgjh 262\n",
      "hjgjh 579\n",
      "11\n",
      "10 => 41 => 64 => 111 => 262 => 336 => 363 => 537 => 579 => 612 => 819 => \n"
     ]
    }
   ],
   "source": [
    "def numOfNodesLL(head):\n",
    "    curr = head\n",
    "    nodes = 0\n",
    "    while curr:\n",
    "        nodes += 1\n",
    "        curr = curr.next\n",
    "    return nodes\n",
    "\n",
    "def merge(head1, head2):\n",
    "    if not head1 and head2:\n",
    "        return head2\n",
    "    if not head2 and head1:\n",
    "        return head1\n",
    "    curr1 = head1\n",
    "    curr2 = head2\n",
    "    head = None\n",
    "    tail = None\n",
    "\n",
    "    while curr1 and curr2:\n",
    "        if curr1.val <= curr2.val:\n",
    "            if not head:\n",
    "                head = curr1\n",
    "                tail = curr1\n",
    "            else:\n",
    "                tail.next = curr1\n",
    "                tail = curr1\n",
    "            curr1 = curr1.next\n",
    "        else:\n",
    "            if not head:\n",
    "                head = curr2\n",
    "                tail = head\n",
    "            else:\n",
    "                tail.next = curr2\n",
    "                tail = curr2\n",
    "            curr2 = curr2.next\n",
    "    while curr1:\n",
    "        tail.next = curr1\n",
    "        tail = curr1\n",
    "        curr1 = curr1.next\n",
    "    while curr2:\n",
    "        tail.next = curr2\n",
    "        tail = curr2\n",
    "        curr2 = curr2.next\n",
    "    return head\n",
    "\n",
    "def merge_sort(root):\n",
    "    n = numOfNodesLL(root)\n",
    "    if n <= 1:\n",
    "        return root\n",
    "    mid = n // 2 - 1\n",
    "    midNode = root\n",
    "    head1 = root\n",
    "    while mid > 0 and midNode.next:\n",
    "        midNode = midNode.next\n",
    "        mid -= 1\n",
    "    head2 = midNode.next\n",
    "    midNode.next = None\n",
    "    \n",
    "    print(\"hjgjh\", head1.val)\n",
    "    head1 = merge_sort(head1)\n",
    "    head2 = merge_sort(head2)\n",
    "\n",
    "    return merge(head1, head2)\n",
    "\n",
    "head = LinkedListNode()\n",
    "head.val = 10\n",
    "for i in range(10):\n",
    "    insertLL(head, random.randint(0, 1000))\n",
    "\n",
    "numNodes = numOfNodesLL(head)\n",
    "printLL(head)\n",
    "head = merge_sort(head)\n",
    "\n",
    "print(numNodes)\n",
    "printLL(head)"
   ]
  },
  {
   "cell_type": "code",
   "execution_count": 18,
   "metadata": {},
   "outputs": [
    {
     "name": "stdout",
     "output_type": "stream",
     "text": [
      "422 742 497 971 91 350 10 276 32 555 668 \n",
      "10 497 742 422 91 971 350 555 32 276 668 \n",
      "422 742 971 350 91 497 276 32 668 555 10 "
     ]
    }
   ],
   "source": [
    "class BinaryTreeNode:\n",
    "    def __init__(self, val = 0, left = None, right = None) -> None:\n",
    "        self.val = val\n",
    "        self.left = left\n",
    "        self.right = right\n",
    "\n",
    "def insertBinT(root, val):\n",
    "    if not root.left:\n",
    "        root.left = BinaryTreeNode(val)\n",
    "        return\n",
    "    if not root.right:\n",
    "        root.right = BinaryTreeNode(val)\n",
    "        return\n",
    "    x = random.randint(0, 1)\n",
    "    if x == 1:\n",
    "        insertBinT(root.left, val)\n",
    "    else:\n",
    "        insertBinT(root.right, val)\n",
    "\n",
    "\n",
    "\n",
    "def inorder(root):\n",
    "    if not root:\n",
    "        return\n",
    "    inorder(root.left)\n",
    "    print(root.val, end = ' ')\n",
    "    inorder(root.right)\n",
    "\n",
    "def preorder(root):\n",
    "    if not root:\n",
    "        return\n",
    "    print(root.val, end = ' ')\n",
    "    preorder(root.left)\n",
    "    preorder(root.right)\n",
    "\n",
    "def postorder(root):\n",
    "    if not root:\n",
    "        return\n",
    "    postorder(root.left)\n",
    "    postorder(root.right)\n",
    "    print(root.val, end = ' ')\n",
    "\n",
    "root = BinaryTreeNode(10)\n",
    "for i in range(10):\n",
    "    insertBinT(root, random.randint(0, 1000))\n",
    "\n",
    "inorder(root)\n",
    "print()\n",
    "preorder(root)\n",
    "print()\n",
    "postorder(root)"
   ]
  },
  {
   "cell_type": "code",
   "execution_count": 21,
   "metadata": {},
   "outputs": [
    {
     "name": "stdout",
     "output_type": "stream",
     "text": [
      "269\n",
      "917\n",
      "142\n",
      "426\n",
      "589\n",
      "301\n",
      "890\n",
      "16\n",
      "187\n",
      "528\n",
      "500 269 142 16 187 426 301 917 589 528 890 "
     ]
    }
   ],
   "source": [
    "def bstInsert(root, val):\n",
    "    if not root:\n",
    "        root = BinaryTreeNode(val)\n",
    "        return root\n",
    "    if root.val == val:\n",
    "        print(\"Value already in BST\")\n",
    "        return\n",
    "    if root.val > val:\n",
    "        if not root.left:\n",
    "            root.left = BinaryTreeNode(val)\n",
    "        else:\n",
    "            bstInsert(root.left, val)\n",
    "    else:\n",
    "        if not root.right:\n",
    "            root.right = BinaryTreeNode(val)\n",
    "        else:\n",
    "            bstInsert(root.right, val)\n",
    "\n",
    "root = BinaryTreeNode(500)\n",
    "for i in range(10):\n",
    "    x = random.randint(0, 1000)\n",
    "    print(x)\n",
    "    bstInsert(root, x)\n",
    "\n",
    "preorder(root)"
   ]
  },
  {
   "cell_type": "code",
   "execution_count": 19,
   "metadata": {},
   "outputs": [
    {
     "name": "stdout",
     "output_type": "stream",
     "text": [
      "5\n",
      "defaultdict(<class 'list'>, {0: [1], 1: [0, 2], 2: [3], 3: [4], 4: [5]})\n",
      "[[0, 1, 0, 0, 0, 0], [1, 0, 1, 0, 0, 0], [0, 0, 0, 1, 0, 0], [0, 0, 0, 0, 1, 0], [0, 0, 0, 0, 0, 1], [0, 0, 0, 0, 0, 0]]\n"
     ]
    }
   ],
   "source": [
    "from collections import defaultdict\n",
    "edges = [(0, 1), (1, 0), (1, 2), (2,  3), (3, 4), (4, 5)]\n",
    "\n",
    "adjList = defaultdict(list)\n",
    "maxvertex = 0\n",
    "for edge in edges:\n",
    "    adjList[edge[0]].append(edge[1])\n",
    "    maxvertex = max(edge[0], maxvertex)\n",
    "    maxvertex = max(edge[1], maxvertex)\n",
    "\n",
    "adjMat = [[0 for _ in range(maxvertex + 1)] for _ in range(maxvertex + 1)] \n",
    "print(maxvertex)\n",
    "print(adjList)\n",
    "for edge in edges:\n",
    "    adjMat[edge[0]][edge[1]] = 1\n",
    "print(adjMat)"
   ]
  },
  {
   "cell_type": "code",
   "execution_count": 32,
   "metadata": {},
   "outputs": [
    {
     "name": "stdout",
     "output_type": "stream",
     "text": [
      "5\n",
      "defaultdict(<class 'list'>, {0: [1], 1: [0, 2], 2: [1, 3], 3: [2, 4], 4: [3, 5], 5: [4]})\n",
      "[[0, 1, 0, 0, 0, 0], [1, 0, 1, 0, 0, 0], [0, 1, 0, 1, 0, 0], [0, 0, 1, 0, 1, 0], [0, 0, 0, 1, 0, 1], [0, 0, 0, 0, 1, 0]]\n"
     ]
    }
   ],
   "source": [
    "edges = [(0, 1), (1, 2), (2,  3), (3, 4), (4, 5)]\n",
    "\n",
    "adjList = defaultdict(list)\n",
    "for edge in edges:\n",
    "    adjList[edge[0]].append(edge[1])\n",
    "    adjList[edge[1]].append(edge[0])\n",
    "\n",
    "adjMat = [[0 for _ in range(maxvertex + 1)] for _ in range(maxvertex + 1)] \n",
    "print(maxvertex)\n",
    "print(adjList)\n",
    "for edge in edges:\n",
    "    adjMat[edge[0]][edge[1]] = 1\n",
    "    adjMat[edge[1]][edge[0]] = 1\n",
    "print(adjMat)"
   ]
  },
  {
   "cell_type": "code",
   "execution_count": 40,
   "metadata": {},
   "outputs": [
    {
     "name": "stdout",
     "output_type": "stream",
     "text": [
      "1  0  2  3  4  5  \n",
      "===================\n",
      "1  0  2  3  4  5  "
     ]
    }
   ],
   "source": [
    "from collections import deque\n",
    "def bfsWithMat(start):\n",
    "    q = deque([start])\n",
    "    visit = {start}\n",
    "    while q:\n",
    "        curr = q.popleft()\n",
    "        print(curr, end = '  ')\n",
    "        for n in adjList[curr]:\n",
    "            if n not in visit:\n",
    "                q.append(n)\n",
    "                visit.add(n)\n",
    "\n",
    "def bfsWithList(start):\n",
    "    q = deque([start])\n",
    "    visit = {start}\n",
    "    while q:\n",
    "        curr = q.popleft()\n",
    "        print(curr, end = '  ')\n",
    "        for i in range(len(adjMat[curr])):\n",
    "            if i not in visit and adjMat[curr][i] == 1:\n",
    "                q.append(i)\n",
    "                visit.add(i)\n",
    "\n",
    "bfsWithMat(1)\n",
    "print(\"\\n===================\")\n",
    "bfsWithList(1)"
   ]
  },
  {
   "cell_type": "code",
   "execution_count": 44,
   "metadata": {},
   "outputs": [
    {
     "name": "stdout",
     "output_type": "stream",
     "text": [
      "1  0  2  3  4  5  \n",
      "=============\n",
      "1  0  2  3  4  5  "
     ]
    }
   ],
   "source": [
    "def dfsWithMat(start):\n",
    "    print(start, end = '  ')\n",
    "    for n in adjList[start]:\n",
    "        if n not in visit:\n",
    "            visit.add(n)\n",
    "            dfsWithMat(n)\n",
    "\n",
    "def dfsWithList(start):\n",
    "    print(start, end = '  ')\n",
    "    for i in range(len(adjMat[start])):\n",
    "        if i not in visit and adjMat[start][i] == 1:\n",
    "            visit.add(i)\n",
    "            dfsWithList(i)\n",
    "\n",
    "\n",
    "visit = {1}\n",
    "dfsWithMat(1)\n",
    "print(\"\\n=============\")\n",
    "visit = {1}\n",
    "dfsWithList(1)\n"
   ]
  },
  {
   "cell_type": "code",
   "execution_count": 60,
   "metadata": {},
   "outputs": [
    {
     "name": "stdout",
     "output_type": "stream",
     "text": [
      "1 {1, 2, 5, 6, 7}\n",
      "3 {1, 2, 3, 4, 5, 6, 7}\n",
      "8 {1, 2, 3, 4, 5, 6, 7, 8, 9, 10}\n",
      "3\n"
     ]
    }
   ],
   "source": [
    "def cycleDfs(curr, prev):\n",
    "    for n in adjMat[curr]:\n",
    "        if n in visit:\n",
    "            if prev != None and prev != n:\n",
    "                #cycle\n",
    "                return True\n",
    "        else:\n",
    "            visit.add(n)\n",
    "            return cycleDfs(n, curr)\n",
    "    return False\n",
    "\n",
    "edges = [(1, 7), (2, 7), (7, 8), (8, 9), (9, 10), (10, 8), (1, 3), (3, 4), (4, 1), (2, 5), (5, 6), (6, 2)]\n",
    "adjMat = defaultdict(list)\n",
    "vertices = set()\n",
    "for edge in edges:\n",
    "    adjMat[edge[0]].append(edge[1])\n",
    "    adjMat[edge[1]].append(edge[0])\n",
    "    vertices.add(edge[0])\n",
    "    vertices.add(edge[1])\n",
    "\n",
    "\n",
    "cycleCount = 0\n",
    "visit = set()\n",
    "while len(visit) < len(vertices):\n",
    "    for vertex in vertices.difference(visit):\n",
    "        visit.add(vertex)\n",
    "        if cycleDfs(vertex, None):\n",
    "            cycleCount += 1\n",
    "        print(vertex, visit)\n",
    "        break\n",
    "\n",
    "print(cycleCount)"
   ]
  },
  {
   "cell_type": "code",
   "execution_count": 85,
   "metadata": {},
   "outputs": [
    {
     "name": "stdout",
     "output_type": "stream",
     "text": [
      "11 ['123', '1453']\n"
     ]
    },
    {
     "data": {
      "text/plain": [
       "'123'"
      ]
     },
     "execution_count": 85,
     "metadata": {},
     "output_type": "execute_result"
    }
   ],
   "source": [
    "def shortestDfs(curr, path, target, currDist):\n",
    "    global spathlen, shortestPaths\n",
    "    if curr == target:\n",
    "        if spathlen > currDist:\n",
    "            spathlen = currDist\n",
    "            shortestPaths = [(path + str(curr))]\n",
    "        elif spathlen == currDist:\n",
    "            shortestPaths.append(path + str(curr))\n",
    "    \n",
    "    for n in adjMat[curr]:\n",
    "        if n[0] not in visit:\n",
    "            visit.add(n[0])\n",
    "            shortestDfs(n[0], path + str(curr), target, currDist + n[1])\n",
    "\n",
    "edges = [(1, 2, 5), (2, 3, 6), (1, 4, 4), (4, 5, 6), (5, 3, 1)]\n",
    "adjMat = defaultdict(list)\n",
    "for edge in edges:\n",
    "    adjMat[edge[0]].append((edge[1], edge[2]))\n",
    "\n",
    "shortestPaths = []\n",
    "spathlen = float(\"inf\")\n",
    "visit = set()\n",
    "shortestDfs(1, '', 3, 0)\n",
    "print(spathlen, shortestPaths)\n",
    "min(shortestPaths)"
   ]
  },
  {
   "cell_type": "code",
   "execution_count": 106,
   "metadata": {},
   "outputs": [
    {
     "name": "stdout",
     "output_type": "stream",
     "text": [
      "12993\n"
     ]
    }
   ],
   "source": [
    "import heapq\n",
    "def shortestPath(source, target):\n",
    "    myH = [(0, str(source), source)]\n",
    "\n",
    "    while myH:\n",
    "        dist, path, src = heapq.heappop(myH)\n",
    "        if src == target:\n",
    "            return path, dist\n",
    "\n",
    "        for n in adjList[src]:\n",
    "            if n[0] not in visit:\n",
    "                visit.add(n[0])\n",
    "                heapq.heappush(myH, (dist + n[1] , path + str(n[0]), n[0]))\n",
    "\n",
    "    \n",
    "\n",
    "edges = [(1, 2, 5), (1, 4, 4), (4, 5, 6), (5, 3, 1), (2, 99, 3), (99, 3, 3)]\n",
    "adjList = defaultdict(list)\n",
    "for edge in edges:\n",
    "    adjList[edge[0]].append((edge[1], edge[2]))\n",
    "\n",
    "visit = set()\n",
    "path, dist = shortestPath(1, 3)\n",
    "print(path)"
   ]
  }
 ],
 "metadata": {
  "kernelspec": {
   "display_name": "base",
   "language": "python",
   "name": "python3"
  },
  "language_info": {
   "codemirror_mode": {
    "name": "ipython",
    "version": 3
   },
   "file_extension": ".py",
   "mimetype": "text/x-python",
   "name": "python",
   "nbconvert_exporter": "python",
   "pygments_lexer": "ipython3",
   "version": "3.11.2"
  }
 },
 "nbformat": 4,
 "nbformat_minor": 2
}
