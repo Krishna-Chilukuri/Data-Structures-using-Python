{
 "cells": [
  {
   "cell_type": "code",
   "execution_count": 16,
   "metadata": {},
   "outputs": [
    {
     "name": "stdout",
     "output_type": "stream",
     "text": [
      "array('i', [1, 2, 3, 4, 5, 9])\n",
      "array('i', [1, 2, 3, 4, 5, 6])\n",
      "1\n",
      "2\n",
      "3\n",
      "5\n",
      "6\n"
     ]
    }
   ],
   "source": [
    "import array#Array implementation using 'array' module\n",
    "# https://docs.python.org/3/library/array.html - array module documentation\n",
    "\n",
    "myarr= array.array(\"i\",[1,2,3,4])\n",
    "\n",
    "\n",
    "myarr.append(9)#Append\n",
    "myarr.insert(4,5)#Insert\n",
    "print(myarr)#Display\n",
    "\n",
    "myarr[5]=6#Update\n",
    "\n",
    "print(myarr)#Display\n",
    "myarr.remove(4)#Delete\n",
    "\n",
    "\n",
    "for i in myarr:#Traversal\n",
    "    print(i)\n"
   ]
  },
  {
   "cell_type": "code",
   "execution_count": 71,
   "metadata": {},
   "outputs": [
    {
     "name": "stdout",
     "output_type": "stream",
     "text": [
      "[14, 3, 2, 1, 6]\n",
      "[14, 3, 7, 1, 6]\n",
      "5  is not present in the array\n",
      "7  is present at position 3 in the array\n",
      "[14, 3, 7, 6]\n",
      "3\n",
      "6\n",
      "7\n",
      "14\n",
      "The element can't be inserted into the array due to type mismatch\n"
     ]
    }
   ],
   "source": [
    "#Array manual implementation for integers\n",
    "\n",
    "def appendArr(li,ele):\n",
    "    if type(ele) is type(li[0]):\n",
    "        return li+[ele,]\n",
    "    else:\n",
    "        print(\"The element can't be appended into the array due to type mismatch\")\n",
    "\n",
    "def insertArr(li,index,ele):\n",
    "    if type(ele) is type(li[0]) and index in range(0,len(li)):\n",
    "        return li[0:index]+[ele,]+li[index+1:]\n",
    "    else:\n",
    "        print(\"The element can't be inserted into the array due to type mismatch\")\n",
    "\n",
    "def updateArr(li,index,ele):\n",
    "    if type(ele) is type(li[0]) and index in range(0,li):\n",
    "        li[index]=ele\n",
    "    else:\n",
    "        print(\"The element can't be inserted into the array due to type mismatch\")\n",
    "\n",
    "def removeArr(li,index):\n",
    "    if index not in range(0,len(li)):\n",
    "        print(index,\" is not present in the array\")\n",
    "    else:\n",
    "        del(mylistarr[index])\n",
    "        \n",
    "def search(li,ele):\n",
    "    if ele not in li:\n",
    "        print(ele,\" is not present in the array\")\n",
    "    else:\n",
    "        for i in range(0,len(li)):#Temporary search method: SHOULD UPDATE AFTER UNDERSTANDING BETTER SEARCHING METHOD\n",
    "            if li[i]==ele:\n",
    "                print(ele,\" is present at position\",i+1,\"in the array\")\n",
    "\n",
    "def sort(li):#SHOULD UPDATE AFTER UNDERSTANDING BETTER SORTING METHOD\n",
    "    for i in range(0,len(li)):\n",
    "        for j in range(i,len(li)):\n",
    "            if li[i]>li[j]:\n",
    "                li[i],li[j]=li[j],li[i]\n",
    "\n",
    "\n",
    "mylistarr=[14,3,2,1]\n",
    "mylistarr=appendArr(mylistarr,6)#Append\n",
    "print(mylistarr)#Display\n",
    "mylistarr=insertArr(mylistarr,2,7)#Insert\n",
    "print(mylistarr)#Display\n",
    "removeArr(mylistarr,3)#Remove\n",
    "search(mylistarr,5)\n",
    "search(mylistarr,7)\n",
    "\n",
    "print(mylistarr)#Display\n",
    "sort(mylistarr)#Sort\n",
    "\n",
    "for i in range(0,len(mylistarr)):#Traversal\n",
    "    print(mylistarr[i])\n",
    "\n",
    "mylistarr=insertArr(mylistarr,2,1.2)"
   ]
  }
 ],
 "metadata": {
  "kernelspec": {
   "display_name": "base",
   "language": "python",
   "name": "python3"
  },
  "language_info": {
   "codemirror_mode": {
    "name": "ipython",
    "version": 3
   },
   "file_extension": ".py",
   "mimetype": "text/x-python",
   "name": "python",
   "nbconvert_exporter": "python",
   "pygments_lexer": "ipython3",
   "version": "3.9.13"
  },
  "orig_nbformat": 4
 },
 "nbformat": 4,
 "nbformat_minor": 2
}
