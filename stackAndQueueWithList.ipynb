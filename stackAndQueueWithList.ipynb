{
 "cells": [
  {
   "cell_type": "code",
   "execution_count": 1,
   "metadata": {},
   "outputs": [
    {
     "name": "stdout",
     "output_type": "stream",
     "text": [
      "Top of Stack:  10\n",
      "Popped:  10  from the stack\n",
      "Top of Stack:  20.3\n",
      "Popped:  20.3  from the stack\n",
      "Top of Stack:  hello\n",
      "Top of Stack:  hello\n",
      "10 hello [10, 'hello']\n"
     ]
    }
   ],
   "source": [
    "def push(stacku,val):\n",
    "    if(len(stacku)>=25):\n",
    "        print(\"Stack size exceeded\")\n",
    "        return\n",
    "    stacku.append(val)\n",
    "    return\n",
    "\n",
    "def pop(stacku):\n",
    "    if(len(stacku)<1):\n",
    "        print(\"Stack is Empty!!\")\n",
    "        return\n",
    "    return stacku.pop(len(stacku)-1)\n",
    "\n",
    "def top(stacku):\n",
    "    if(len(stacku)<1):\n",
    "        print(\"Stack is Empty\")\n",
    "        return\n",
    "    return stacku[len(stacku)-1]\n",
    "\n",
    "\n",
    "stack1=[]\n",
    "push(stack1,10)\n",
    "push(stack1,\"hello\")\n",
    "push(stack1,20.3)\n",
    "push(stack1,10)\n",
    "print(\"Top of Stack: \",top(stack1))\n",
    "print(\"Popped: \",pop(stack1),\" from the stack\")\n",
    "print(\"Top of Stack: \",top(stack1))\n",
    "print(\"Popped: \",pop(stack1),\" from the stack\")\n",
    "print(\"Top of Stack: \",top(stack1))\n",
    "#print(\"Popped: \",pop(stack1),\" from the stack\")\n",
    "#print(\"Popped: \",pop(stack1),\" from the stack\")\n",
    "print(\"Top of Stack: \",top(stack1))\n",
    "for i in stack1:#[] lekunda print u\n",
    "    print(i,end=\" \")\n",
    "print(stack1)#list maadiri [] ocche print u"
   ]
  },
  {
   "cell_type": "code",
   "execution_count": 4,
   "metadata": {},
   "outputs": [
    {
     "name": "stdout",
     "output_type": "stream",
     "text": [
      "Front, Rear of Queue:  (10, 10)\n",
      "Dequeue result:  10\n",
      "Front, Rear of Queue:  ('hello', 10)\n",
      "Dequeue result:  hello\n",
      "Dequeue result:  20.3\n",
      "Dequeue result:  10\n",
      "Queue is Empty!!\n",
      "Dequeue result:  None\n",
      "[]\n"
     ]
    }
   ],
   "source": [
    "def enque(queueu,val):\n",
    "    if(len(queueu)>=25):\n",
    "        print(\"Queue size exceeded\")\n",
    "        return\n",
    "    queueu.append(val)\n",
    "    return\n",
    "\n",
    "def deque(queueu):\n",
    "    if(len(queueu)<1):\n",
    "        print(\"Queue is Empty!!\")\n",
    "        return\n",
    "    return queueu.pop(0)\n",
    "\n",
    "def fANDr(queueu):\n",
    "    if(len(queueu)<1):\n",
    "        print(\"Queue is Empty\")\n",
    "        return\n",
    "    return queueu[0],queueu[len(queueu)-1]\n",
    "\n",
    "queue1=[]\n",
    "enque(queue1,10)\n",
    "enque(queue1,\"hello\")\n",
    "enque(queue1,20.3)\n",
    "enque(queue1,10)\n",
    "print(\"Front, Rear of Queue: \",fANDr(queue1))\n",
    "print(\"Dequeue result: \",deque(queue1))\n",
    "print(\"Front, Rear of Queue: \",fANDr(queue1))\n",
    "print(\"Dequeue result: \",deque(queue1))\n",
    "print(\"Dequeue result: \",deque(queue1))\n",
    "print(\"Dequeue result: \",deque(queue1))\n",
    "print(\"Dequeue result: \",deque(queue1))\n",
    "\n",
    "for i in queue1:\n",
    "    print(i,end =\" \")\n",
    "print(queue1)\n",
    "\n"
   ]
  }
 ],
 "metadata": {
  "kernelspec": {
   "display_name": "base",
   "language": "python",
   "name": "python3"
  },
  "language_info": {
   "codemirror_mode": {
    "name": "ipython",
    "version": 3
   },
   "file_extension": ".py",
   "mimetype": "text/x-python",
   "name": "python",
   "nbconvert_exporter": "python",
   "pygments_lexer": "ipython3",
   "version": "3.9.13"
  },
  "orig_nbformat": 4
 },
 "nbformat": 4,
 "nbformat_minor": 2
}
